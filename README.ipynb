{
 "cells": [
  {
   "cell_type": "markdown",
   "metadata": {
    "deletable": true,
    "editable": true
   },
   "source": [
    "# Training an Autonomous Vehicle using Reinforcement Learning   \n",
    "\n",
    "\n",
    "### Juan E. Rolon, 2018"
   ]
  },
  {
   "cell_type": "markdown",
   "metadata": {
    "deletable": true,
    "editable": true
   },
   "source": [
    "<img src=\"vehicle_dashboard.png\"\n",
    "     alt=\"sample_output\"\n",
    "     style=\"float: left; margin-right: 10px; width: 250px;\" />"
   ]
  },
  {
   "cell_type": "markdown",
   "metadata": {
    "deletable": true,
    "editable": true
   },
   "source": [
    "## Project overview"
   ]
  },
  {
   "cell_type": "markdown",
   "metadata": {
    "deletable": true,
    "editable": true
   },
   "source": [
    "In this project, I implemented an application of _Reinforcement Learning_ to develop a training simulator for an autonomous vehicle or smartcab. This project was submitted as part of the requisites required to obtain **Machine Learning** Engineer Nanodegree from Udacity. It also forms part of an **Artificial Intelligence** curriculum.\n",
    "\n",
    "Along with exploring state-of-the-art reinforcement learning techniques networks classification models, this project deals with important design decisions typically applicable in autonomous vehicle industry.   \n",
    "\n",
    "## Objectives\n",
    "\n",
    "- To construct an optimized Q-Learning driving agent that will navigate a smartcab through its environment towards a fixed destination.   \n",
    "\n",
    "\n",
    "- To evaluate the peformace of the algorithm on two very important metrics: Safety and Reliability.   \n",
    "\n",
    "\n",
    "- To maximize the driving agent's safety and reliability to conform transportation industry standards."
   ]
  },
  {
   "cell_type": "markdown",
   "metadata": {
    "deletable": true,
    "editable": true
   },
   "source": [
    "## Installation"
   ]
  },
  {
   "cell_type": "markdown",
   "metadata": {
    "deletable": true,
    "editable": true
   },
   "source": [
    "#### Required Libraries \n",
    "\n",
    "- Pygame\n",
    "- Sklearn \n",
    "- Matplotlib\n",
    "   \n",
    "\n",
    "### Git Cloning    \n",
    "\n",
    "\n",
    "Clone the following repository to obtain the required datasets.\n",
    "\t\n",
    "\t```\t\n",
    "\t\tgit clone https://github.com/juanerolon/Train-Autonomous-Vehicle.git\n",
    "\t```\n",
    "    \n",
    "This project requires **Python 2.7** with the [pygame](https://www.pygame.org/wiki/GettingStarted) library installed\n",
    "\n",
    "### Required Code\n",
    "\n",
    "Fully function code is provided in the `smartcab/agent.py` python file. Additional supporting python code can be found in `smartcab/enviroment.py`, `smartcab/planner.py`, and `smartcab/simulator.py`. Supporting images for the graphical user interface can be found in the `images` folder. While some code has already been implemented to get you started, you will need to implement additional functionality for the `LearningAgent` class in `agent.py` when requested to successfully complete the project. \n",
    "\n",
    "### Running the Code\n",
    "\n",
    "In a terminal or command window, navigate to the top-level project directory `smartcab/` (that contains this README) and run one of the following commands:\n",
    "\n",
    "```python smartcab/agent.py```  \n",
    "```python -m smartcab.agent```\n",
    "\n",
    "This will run the `agent.py` file and execute the agent code.\n",
    "\n",
    "### Analysis\n",
    "\n",
    "To perform the analysis of the agent simulator ouput you need an IDE capable of editing and running Ipython notebooks. If Jupyter is installed in your distribution:   \n",
    "\n",
    "`$ jupyter notebook smartcab.ipynb`"
   ]
  },
  {
   "cell_type": "markdown",
   "metadata": {
    "deletable": true,
    "editable": true
   },
   "source": [
    "## License"
   ]
  },
  {
   "cell_type": "markdown",
   "metadata": {
    "deletable": true,
    "editable": true
   },
   "source": [
    "The present project constitutes intellectual work towards completion of Udacitys Machine Learning Engineer Nanodegree. You are free to modify and adapt the code to your needs, but please avoid using an exact copy of this work as your own to obtain credits towards any educational platform, doing so may imply plagiarism on your part. "
   ]
  },
  {
   "cell_type": "code",
   "execution_count": null,
   "metadata": {
    "collapsed": true,
    "deletable": true,
    "editable": true
   },
   "outputs": [],
   "source": []
  }
 ],
 "metadata": {
  "kernelspec": {
   "display_name": "Python 3",
   "language": "python",
   "name": "python3"
  },
  "language_info": {
   "codemirror_mode": {
    "name": "ipython",
    "version": 3
   },
   "file_extension": ".py",
   "mimetype": "text/x-python",
   "name": "python",
   "nbconvert_exporter": "python",
   "pygments_lexer": "ipython3",
   "version": "3.5.3"
  }
 },
 "nbformat": 4,
 "nbformat_minor": 2
}
